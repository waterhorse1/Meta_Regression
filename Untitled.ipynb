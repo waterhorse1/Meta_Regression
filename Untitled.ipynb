{
 "cells": [
  {
   "cell_type": "code",
   "execution_count": 5,
   "metadata": {},
   "outputs": [],
   "source": [
    "import numpy as np\n",
    "import torch\n",
    "import nashpy"
   ]
  },
  {
   "cell_type": "code",
   "execution_count": 2,
   "metadata": {},
   "outputs": [],
   "source": [
    "a = np.random.uniform(0.1,5)"
   ]
  },
  {
   "cell_type": "code",
   "execution_count": 3,
   "metadata": {},
   "outputs": [
    {
     "data": {
      "text/plain": [
       "array([2, 2, 2, 0, 2, 3, 1, 1, 4, 3])"
      ]
     },
     "execution_count": 3,
     "metadata": {},
     "output_type": "execute_result"
    }
   ],
   "source": [
    "np.random.choice(5, 10,[0.1,0.2,0.1,0.4,0.2])"
   ]
  },
  {
   "cell_type": "code",
   "execution_count": 55,
   "metadata": {},
   "outputs": [],
   "source": [
    "def get_br_to_strat(strat, payoffs, verbose=False,pr=False):\n",
    "    strat = torch.tensor(strat).float()\n",
    "    row_weighted_payouts = strat@payoffs.float()\n",
    "    br = torch.zeros_like(row_weighted_payouts)\n",
    "    br[torch.argmin(row_weighted_payouts)] = 1\n",
    "    return br\n",
    "def fictitious_play(iters=1000, payoffs=None, verbose=False):\n",
    "    dim = payoffs.shape[0]\n",
    "    pop = torch.rand((1,dim))\n",
    "    pop = pop/pop.sum(axis=1)[:,None]\n",
    "    averages = pop\n",
    "    exps = []\n",
    "    for i in range(iters):\n",
    "        average = torch.mean(pop, dim=0)\n",
    "        br = get_br_to_strat(average, payoffs=payoffs)\n",
    "        exp1 = average@payoffs@br.T\n",
    "        exp2 = br@payoffs@average.T\n",
    "        exps.append(exp2-exp1)\n",
    "        averages = torch.vstack((averages, average))\n",
    "        pop = torch.vstack((pop, br))\n",
    "    return averages, exps"
   ]
  },
  {
   "cell_type": "code",
   "execution_count": 56,
   "metadata": {},
   "outputs": [],
   "source": [
    "A= torch.tensor(np.array([[0, 1, -1], [-1, 0, 1], [1, 0, 0]])).float()"
   ]
  },
  {
   "cell_type": "code",
   "execution_count": 57,
   "metadata": {},
   "outputs": [
    {
     "name": "stderr",
     "output_type": "stream",
     "text": [
      "/home/crown/anaconda3/envs/rl_env/lib/python3.7/site-packages/ipykernel_launcher.py:2: UserWarning: To copy construct from a tensor, it is recommended to use sourceTensor.clone().detach() or sourceTensor.clone().detach().requires_grad_(True), rather than torch.tensor(sourceTensor).\n",
      "  \n"
     ]
    }
   ],
   "source": [
    "averages, exps = fictitious_play(payoffs=A)"
   ]
  },
  {
   "cell_type": "code",
   "execution_count": 58,
   "metadata": {},
   "outputs": [
    {
     "data": {
      "text/plain": [
       "tensor([1.2766e-03, 3.8639e-04, 9.9834e-01])"
      ]
     },
     "execution_count": 58,
     "metadata": {},
     "output_type": "execute_result"
    }
   ],
   "source": [
    "averages[-1]"
   ]
  },
  {
   "cell_type": "code",
   "execution_count": 114,
   "metadata": {},
   "outputs": [],
   "source": [
    "import numpy as np\n",
    "import nashpy as nash\n",
    "A = np.array([[2, 0], [2,3]])\n",
    "B = - A\n",
    "game = nash.Game(A, B)\n",
    "iterations = 1000\n",
    "np.random.seed(0)\n",
    "play_counts = tuple(game.fictitious_play(iterations=iterations))"
   ]
  },
  {
   "cell_type": "code",
   "execution_count": 115,
   "metadata": {},
   "outputs": [
    {
     "name": "stderr",
     "output_type": "stream",
     "text": [
      "/home/crown/anaconda3/envs/rl_env/lib/python3.7/site-packages/ipykernel_launcher.py:1: RuntimeWarning: invalid value encountered in true_divide\n",
      "  \"\"\"Entry point for launching an IPython kernel.\n",
      "/home/crown/anaconda3/envs/rl_env/lib/python3.7/site-packages/ipykernel_launcher.py:2: RuntimeWarning: invalid value encountered in true_divide\n",
      "  \n"
     ]
    }
   ],
   "source": [
    "probabilities = [row_play_counts / np.sum(row_play_counts) for row_play_counts, col_play_counts in play_counts]\n",
    "probabilities1 = [col_play_counts / np.sum(col_play_counts) for row_play_counts, col_play_counts in play_counts]"
   ]
  },
  {
   "cell_type": "code",
   "execution_count": 122,
   "metadata": {},
   "outputs": [
    {
     "ename": "ValueError",
     "evalue": "The truth value of an array with more than one element is ambiguous. Use a.any() or a.all()",
     "output_type": "error",
     "traceback": [
      "\u001b[0;31m---------------------------------------------------------------------------\u001b[0m",
      "\u001b[0;31mValueError\u001b[0m                                Traceback (most recent call last)",
      "\u001b[0;32m<ipython-input-122-84c62335f619>\u001b[0m in \u001b[0;36m<module>\u001b[0;34m\u001b[0m\n\u001b[0;32m----> 1\u001b[0;31m \u001b[0mnp\u001b[0m\u001b[0;34m.\u001b[0m\u001b[0mrandom\u001b[0m\u001b[0;34m.\u001b[0m\u001b[0mchoice\u001b[0m\u001b[0;34m(\u001b[0m\u001b[0;36m2\u001b[0m\u001b[0;34m,\u001b[0m \u001b[0;36m25\u001b[0m\u001b[0;34m,\u001b[0m \u001b[0mnp\u001b[0m\u001b[0;34m.\u001b[0m\u001b[0marray\u001b[0m\u001b[0;34m(\u001b[0m\u001b[0;34m[\u001b[0m\u001b[0;36m0\u001b[0m\u001b[0;34m,\u001b[0m\u001b[0;36m1\u001b[0m\u001b[0;34m]\u001b[0m\u001b[0;34m)\u001b[0m\u001b[0;34m)\u001b[0m\u001b[0;34m\u001b[0m\u001b[0;34m\u001b[0m\u001b[0m\n\u001b[0m",
      "\u001b[0;32mmtrand.pyx\u001b[0m in \u001b[0;36mnumpy.random.mtrand.RandomState.choice\u001b[0;34m()\u001b[0m\n",
      "\u001b[0;31mValueError\u001b[0m: The truth value of an array with more than one element is ambiguous. Use a.any() or a.all()"
     ]
    }
   ],
   "source": [
    "np.random.choice(2, 25, np.array([0,1]))"
   ]
  },
  {
   "cell_type": "code",
   "execution_count": 124,
   "metadata": {},
   "outputs": [],
   "source": [
    "a = np.array([0,1]).tolist()"
   ]
  },
  {
   "cell_type": "code",
   "execution_count": 94,
   "metadata": {},
   "outputs": [
    {
     "data": {
      "text/plain": [
       "[array([0.39067703, 0.19644839, 0.41287458]),\n",
       " array([0.39135255, 0.1962306 , 0.41241685]),\n",
       " array([0.39202658, 0.19601329, 0.41196013]),\n",
       " array([0.39269912, 0.19579646, 0.41150442]),\n",
       " array([0.39337017, 0.19558011, 0.41104972]),\n",
       " array([0.39403974, 0.19536424, 0.41059603]),\n",
       " array([0.39470783, 0.19514884, 0.41014333]),\n",
       " array([0.39537445, 0.19493392, 0.40969163]),\n",
       " array([0.3960396 , 0.19471947, 0.40924092]),\n",
       " array([0.3967033 , 0.19450549, 0.40879121]),\n",
       " array([0.39736553, 0.19429199, 0.40834248]),\n",
       " array([0.39802632, 0.19407895, 0.40789474]),\n",
       " array([0.39868565, 0.19386637, 0.40744797]),\n",
       " array([0.39934354, 0.19365427, 0.40700219]),\n",
       " array([0.4       , 0.19344262, 0.40655738]),\n",
       " array([0.40065502, 0.19323144, 0.40611354]),\n",
       " array([0.40130862, 0.19302072, 0.40567067]),\n",
       " array([0.40196078, 0.19281046, 0.40522876]),\n",
       " array([0.40261153, 0.19260065, 0.40478781]),\n",
       " array([0.40326087, 0.1923913 , 0.40434783]),\n",
       " array([0.40390879, 0.19218241, 0.40390879]),\n",
       " array([0.40455531, 0.19197397, 0.40347072]),\n",
       " array([0.40520043, 0.19176598, 0.40303359]),\n",
       " array([0.40584416, 0.19155844, 0.4025974 ]),\n",
       " array([0.40648649, 0.19135135, 0.40216216]),\n",
       " array([0.40712743, 0.19114471, 0.40172786]),\n",
       " array([0.40776699, 0.19093851, 0.4012945 ]),\n",
       " array([0.40840517, 0.19073276, 0.40086207]),\n",
       " array([0.40904198, 0.19052745, 0.40043057]),\n",
       " array([0.40967742, 0.19032258, 0.4       ]),\n",
       " array([0.41031149, 0.19011815, 0.39957035]),\n",
       " array([0.41094421, 0.18991416, 0.39914163]),\n",
       " array([0.41157556, 0.18971061, 0.39871383]),\n",
       " array([0.41220557, 0.18950749, 0.39828694]),\n",
       " array([0.41283422, 0.18930481, 0.39786096]),\n",
       " array([0.41346154, 0.18910256, 0.3974359 ]),\n",
       " array([0.41408751, 0.18890075, 0.39701174]),\n",
       " array([0.41471215, 0.18869936, 0.39658849]),\n",
       " array([0.41533546, 0.1884984 , 0.39616613]),\n",
       " array([0.41595745, 0.18829787, 0.39574468]),\n",
       " array([0.41657811, 0.18809777, 0.39532412]),\n",
       " array([0.41719745, 0.18789809, 0.39490446]),\n",
       " array([0.41781548, 0.18769883, 0.39448568]),\n",
       " array([0.4184322, 0.1875   , 0.3940678]),\n",
       " array([0.41904762, 0.18730159, 0.39365079]),\n",
       " array([0.41966173, 0.18710359, 0.39323467]),\n",
       " array([0.42027455, 0.18690602, 0.39281943]),\n",
       " array([0.42088608, 0.18670886, 0.39240506]),\n",
       " array([0.42149631, 0.18651212, 0.39199157]),\n",
       " array([0.42210526, 0.18631579, 0.39157895]),\n",
       " array([0.42166141, 0.1871714 , 0.39116719]),\n",
       " array([0.42121849, 0.18802521, 0.3907563 ]),\n",
       " array([0.4207765 , 0.18887723, 0.39034627]),\n",
       " array([0.42033543, 0.18972746, 0.38993711]),\n",
       " array([0.41989529, 0.19057592, 0.3895288 ]),\n",
       " array([0.41945607, 0.19142259, 0.38912134]),\n",
       " array([0.41901776, 0.1922675 , 0.38871473]),\n",
       " array([0.41858038, 0.19311065, 0.38830898]),\n",
       " array([0.4181439 , 0.19395203, 0.38790407]),\n",
       " array([0.41770833, 0.19479167, 0.3875    ]),\n",
       " array([0.41727367, 0.19562955, 0.38709677]),\n",
       " array([0.41683992, 0.1954262 , 0.38773389]),\n",
       " array([0.41640706, 0.19522326, 0.38836968]),\n",
       " array([0.4159751 , 0.19502075, 0.38900415]),\n",
       " array([0.41554404, 0.19481865, 0.38963731]),\n",
       " array([0.41511387, 0.19461698, 0.39026915]),\n",
       " array([0.41468459, 0.19441572, 0.39089969]),\n",
       " array([0.4142562 , 0.19421488, 0.39152893]),\n",
       " array([0.41382869, 0.19401445, 0.39215686]),\n",
       " array([0.41340206, 0.19381443, 0.39278351]),\n",
       " array([0.41297631, 0.19361483, 0.39340886]),\n",
       " array([0.41255144, 0.19341564, 0.39403292]),\n",
       " array([0.41212744, 0.19321686, 0.3946557 ]),\n",
       " array([0.41170431, 0.19301848, 0.39527721]),\n",
       " array([0.41128205, 0.19282051, 0.39589744]),\n",
       " array([0.41086066, 0.19262295, 0.39651639]),\n",
       " array([0.41044012, 0.19242579, 0.39713408]),\n",
       " array([0.41002045, 0.19222904, 0.39775051]),\n",
       " array([0.40960163, 0.19203269, 0.39836568]),\n",
       " array([0.40918367, 0.19183673, 0.39897959]),\n",
       " array([0.40876656, 0.19164118, 0.39959225]),\n",
       " array([0.40835031, 0.19144603, 0.40020367]),\n",
       " array([0.40793489, 0.19125127, 0.40081384]),\n",
       " array([0.40752033, 0.19105691, 0.40142276]),\n",
       " array([0.4071066 , 0.19086294, 0.40203046]),\n",
       " array([0.40669371, 0.19066937, 0.40263692]),\n",
       " array([0.40628166, 0.19047619, 0.40324215]),\n",
       " array([0.40587045, 0.1902834 , 0.40384615]),\n",
       " array([0.40546006, 0.190091  , 0.40444894]),\n",
       " array([0.40505051, 0.18989899, 0.40505051]),\n",
       " array([0.40464178, 0.18970737, 0.40565086]),\n",
       " array([0.40423387, 0.18951613, 0.40625   ]),\n",
       " array([0.40382679, 0.18932528, 0.40684794]),\n",
       " array([0.40342052, 0.18913481, 0.40744467]),\n",
       " array([0.40301508, 0.18894472, 0.4080402 ]),\n",
       " array([0.40261044, 0.18875502, 0.40863454]),\n",
       " array([0.40220662, 0.1885657 , 0.40922768]),\n",
       " array([0.40180361, 0.18837675, 0.40981964]),\n",
       " array([0.4014014 , 0.18818819, 0.41041041]),\n",
       " array([0.401, 0.188, 0.411])]"
      ]
     },
     "execution_count": 94,
     "metadata": {},
     "output_type": "execute_result"
    }
   ],
   "source": []
  },
  {
   "cell_type": "code",
   "execution_count": null,
   "metadata": {},
   "outputs": [],
   "source": []
  }
 ],
 "metadata": {
  "kernelspec": {
   "display_name": "rl_env",
   "language": "python",
   "name": "rl_env"
  },
  "language_info": {
   "codemirror_mode": {
    "name": "ipython",
    "version": 3
   },
   "file_extension": ".py",
   "mimetype": "text/x-python",
   "name": "python",
   "nbconvert_exporter": "python",
   "pygments_lexer": "ipython3",
   "version": "3.7.7"
  }
 },
 "nbformat": 4,
 "nbformat_minor": 4
}
