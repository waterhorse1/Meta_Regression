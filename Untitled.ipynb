{
 "cells": [
  {
   "cell_type": "code",
   "execution_count": 1,
   "metadata": {
    "collapsed": true
   },
   "outputs": [],
   "source": [
    "import torch\n",
    "import torch.nn as nn\n",
    "import torch.nn.functional as F\n",
    "from data.task_multi import multi\n",
    "from sklearn.manifold import TSNE\n",
    "import matplotlib.pyplot as plt\n",
    "import numpy as np\n",
    "import utils"
   ]
  },
  {
   "cell_type": "code",
   "execution_count": 62,
   "metadata": {
    "collapsed": true
   },
   "outputs": [],
   "source": [
    "class encoder(nn.Module):   \n",
    "    def __init__(self, hidden_size = 2, batch_size = 32):\n",
    "        super(encoder, self).__init__()\n",
    "        self.batch_size = batch_size\n",
    "        self.hidden_size = hidden_size\n",
    "        self.l1 = nn.Linear(2, 2)\n",
    "        self.gru = nn.GRU(2, self.hidden_size, batch_first=True)\n",
    "                           \n",
    "    def forward(self, input): # input = batch * 10 * 2\n",
    "        x = self.l1(input)# batch * 10 * 20\n",
    "        hidden = self.hidden()\n",
    "        output, hidden = self.gru(x, hidden)\n",
    "        out = x\n",
    "        return hidden, out, output\n",
    "    \n",
    "    def hidden(self):\n",
    "        return torch.zeros((1, self.batch_size, self.hidden_size))\n",
    "    \n",
    "class decoder(nn.Module):   \n",
    "    def __init__(self, reverse = True, hidden_size = 2, batch_size = 32):\n",
    "        super(decoder, self).__init__()\n",
    "        self.reverse = reverse\n",
    "        self.batch_size = batch_size\n",
    "        self.hidden_size = hidden_size\n",
    "        self.l1 = nn.Linear(self.hidden_size,2)\n",
    "        self.gru = nn.GRU(2, self.hidden_size, batch_first=True)\n",
    "        #self.l2 = nn.Linear(2,64)\n",
    "                           \n",
    "    def forward(self, hidden, step):# input = batch * 10 * 2\n",
    "        out = []\n",
    "        output = torch.zeros((self.batch_size, 1, 2))\n",
    "        output, hidden = self.gru(output, hidden)#b*1*hidden_size\n",
    "        output = self.l1(output)\n",
    "        out.append(output)\n",
    "        for step in range(step-1):\n",
    "            #input = self.l2(output)\n",
    "            output, hidden = self.gru(output, hidden)\n",
    "            output = self.l1(output)\n",
    "            out.append(output)\n",
    "        if self.reverse:\n",
    "            out = out[::-1]\n",
    "        \n",
    "        out = torch.cat(out,dim=1)\n",
    "        return out\n",
    "    \n",
    "    def hidden(self):\n",
    "        return torch.zeros((1, self.batch_size, self.hidden_size))"
   ]
  },
  {
   "cell_type": "code",
   "execution_count": 80,
   "metadata": {
    "collapsed": true
   },
   "outputs": [],
   "source": [
    "batch = 64\n",
    "task_family_train = multi()\n",
    "task_family_test = multi()\n",
    "e = encoder(batch_size = batch)\n",
    "d = decoder(batch_size = batch)\n",
    "encoder_optim = torch.optim.Adam(e.parameters(),lr=5e-4)\n",
    "decoder_optim = torch.optim.Adam(d.parameters(),lr=5e-4)"
   ]
  },
  {
   "cell_type": "code",
   "execution_count": 81,
   "metadata": {},
   "outputs": [],
   "source": [
    "e.train()\n",
    "d.train()\n",
    "loss = []\n",
    "for b in range(1000):\n",
    "    train_inputs = []\n",
    "    # sample tasks\n",
    "    target_function = task_family_train.sample_tasks(batch)\n",
    "    for t in range(batch):        \n",
    "        x = task_family_train.sample_inputs(100)\n",
    "        y = target_function[t](x)\n",
    "        data = torch.cat([x,y],dim=1)# 10 * 2\n",
    "        train_inputs.append(data)\n",
    "    train_inputs = torch.stack(train_inputs,dim=0)# batch * 10 * 2\n",
    "    hidden_state, train_targets, output = e(train_inputs)\n",
    "    train_outputs = d(hidden_state, 100)\n",
    "    \n",
    "    # get targets\n",
    "    #train_targets = train_inputs\n",
    "    task_loss = F.mse_loss(train_outputs, train_targets)\n",
    "    task_loss.backward()\n",
    "    encoder_optim.step()\n",
    "    decoder_optim.step()\n",
    "    loss.append(task_loss)"
   ]
  },
  {
   "cell_type": "code",
   "execution_count": 82,
   "metadata": {},
   "outputs": [
    {
     "data": {
      "image/png": "[encoded data removed]",
      "text/plain": [
       "<Figure size 432x288 with 1 Axes>"
      ]
     },
     "metadata": {},
     "output_type": "display_data"
    }
   ],
   "source": [
    "plt.plot(loss)\n",
    "plt.show()"
   ]
  },
  {
   "cell_type": "code",
   "execution_count": 29,
   "metadata": {},
   "outputs": [
    {
     "data": {
      "text/plain": [
       "torch.Size([100, 1])"
      ]
     },
     "execution_count": 29,
     "metadata": {},
     "output_type": "execute_result"
    }
   ],
   "source": [
    "y.shape"
   ]
  },
  {
   "cell_type": "code",
   "execution_count": 21,
   "metadata": {},
   "outputs": [
    {
     "data": {
      "image/png": "[encoded data removed]",
      "text/plain": [
       "<Figure size 432x288 with 1 Axes>"
      ]
     },
     "metadata": {},
     "output_type": "display_data"
    }
   ],
   "source": [
    "x = task_family_train.sample_inputs(100)\n",
    "y = target_function[9](x)\n",
    "plt.scatter(x[:,0],y[:,0])\n",
    "plt.show()"
   ]
  },
  {
   "cell_type": "code",
   "execution_count": 184,
   "metadata": {},
   "outputs": [
    {
     "name": "stdout",
     "output_type": "stream",
     "text": [
      "tensor(0.0868, grad_fn=<DivBackward0>)\n"
     ]
    }
   ],
   "source": [
    "#test\n",
    "loss = 0\n",
    "e.eval()\n",
    "d.eval()\n",
    "for b in range(100):\n",
    "    train_inputs = []\n",
    "    # sample tasks\n",
    "    target_function,type = task_family_test.sample_tasks(batch,True)\n",
    "    for t in range(batch):        \n",
    "        x = task_family_test.sample_inputs(10)\n",
    "        y = target_function[t](x)\n",
    "        data = torch.cat([x,y],dim=1)# 10 * 2\n",
    "        train_inputs.append(data)\n",
    "    train_inputs = torch.stack(train_inputs,dim=0)# batch * 10 * 2\n",
    "    hidden_state, train_targets = e(train_inputs)\n",
    "    train_outputs = d(hidden_state, 10)\n",
    "    \n",
    "    # get targets\n",
    "    #train_targets = train_inputs\n",
    "    task_loss = F.mse_loss(train_outputs, train_targets)\n",
    "    loss += task_loss\n",
    "print(loss/100)"
   ]
  },
  {
   "cell_type": "code",
   "execution_count": 88,
   "metadata": {},
   "outputs": [],
   "source": [
    "#test\n",
    "loss = 0\n",
    "ty = []\n",
    "hidden = []\n",
    "e.eval()\n",
    "d.eval()\n",
    "for b in range(30):\n",
    "    train_inputs = []\n",
    "    # sample tasks\n",
    "    target_function,type = task_family_test.sample_tasks(batch,True)\n",
    "    for t in range(batch):        \n",
    "        x = task_family_test.sample_inputs(10)\n",
    "        y = target_function[t](x)\n",
    "        data = torch.cat([x,y],dim=1)# 10 * 2\n",
    "        train_inputs.append(data)\n",
    "    train_inputs = torch.stack(train_inputs,dim=0)# batch * 10 * 2\n",
    "    hidden_state, train_targets, embed = e(train_inputs) # 1 * 64 * 32\n",
    "    embed = torch.mean(embed, dim=1) #64*20\n",
    "    ty.append(np.array(type))\n",
    "    hidden.append(embed.detach().numpy())\n",
    "ty = np.concatenate(ty,axis=0)\n",
    "hidden = np.concatenate(hidden,axis=0)"
   ]
  },
  {
   "cell_type": "code",
   "execution_count": 89,
   "metadata": {},
   "outputs": [
    {
     "data": {
      "text/plain": [
       "(1920, 2)"
      ]
     },
     "execution_count": 89,
     "metadata": {},
     "output_type": "execute_result"
    }
   ],
   "source": [
    "hidden.shape"
   ]
  },
  {
   "cell_type": "code",
   "execution_count": 90,
   "metadata": {
    "collapsed": true
   },
   "outputs": [],
   "source": [
    "tsne = TSNE(n_components=2)"
   ]
  },
  {
   "cell_type": "code",
   "execution_count": 91,
   "metadata": {},
   "outputs": [],
   "source": [
    "y = tsne.fit_transform(hidden)"
   ]
  },
  {
   "cell_type": "code",
   "execution_count": 92,
   "metadata": {
    "collapsed": true
   },
   "outputs": [],
   "source": [
    "y = hidden"
   ]
  },
  {
   "cell_type": "code",
   "execution_count": 93,
   "metadata": {},
   "outputs": [
    {
     "data": {
      "image/png": "[encoded data removed]",
      "text/plain": [
       "<Figure size 432x288 with 1 Axes>"
      ]
     },
     "metadata": {},
     "output_type": "display_data"
    }
   ],
   "source": [
    "import matplotlib.pyplot as plt\n",
    "plt.scatter(y[ty==0][:,0],y[ty==0][:,1],c='r')\n",
    "plt.scatter(y[ty==1][:,0],y[ty==1][:,1],c='g')\n",
    "#plt.scatter(y[ty==2][:,0],y[ty==2][:,1],c='y')\n",
    "#plt.scatter(y[ty==3][:,0],y[ty==3][:,1])\n",
    "plt.show()"
   ]
  },
  {
   "cell_type": "code",
   "execution_count": 152,
   "metadata": {
    "collapsed": true
   },
   "outputs": [],
   "source": [
    "from cavia_model_back import pool_encoder\n",
    "logger = utils.load_obj('./multi_result_files/39d86a43969d0773fe4a6dca39446053')\n",
    "encoder = logger.best_encoder_valid_model\n",
    "loss = 0\n",
    "type = []\n",
    "embed = []\n",
    "encoder.eval()\n",
    "p_encoder.eval()\n",
    "with torch.no_grad():\n",
    "    for task in range(300):\n",
    "        # sample tasks\n",
    "        target_function,ty = task_family_test.sample_task(return_type=True)\n",
    "        x = task_family_test.sample_inputs(5)\n",
    "        y = target_function(x)\n",
    "        test_inputs = torch.cat([x,y],dim=1)\n",
    "        a = encoder(test_inputs)\n",
    "        #embedding,_ = torch.max(a,dim=0)\n",
    "        embedding0 = torch.mean(a,dim=0)\n",
    "        #embedding = p_encoder(embedding0)\n",
    "        #print(embedding.shape)\n",
    "        type.append(ty)\n",
    "        embed.append(embedding.numpy())"
   ]
  },
  {
   "cell_type": "code",
   "execution_count": 153,
   "metadata": {
    "collapsed": true
   },
   "outputs": [],
   "source": [
    "type = np.array(type)\n",
    "em = np.stack(embed,axis=0)\n",
    "y = TSNE(n_components=2).fit_transform(em)"
   ]
  },
  {
   "cell_type": "code",
   "execution_count": 154,
   "metadata": {},
   "outputs": [
    {
     "data": {
      "image/png": "[encoded data removed]",
      "text/plain": [
       "<Figure size 432x288 with 1 Axes>"
      ]
     },
     "metadata": {},
     "output_type": "display_data"
    }
   ],
   "source": [
    "import matplotlib.pyplot as plt\n",
    "plt.scatter(y[type==0][:,0],y[type==0][:,1],c='r')\n",
    "plt.scatter(y[type==1][:,0],y[type==1][:,1],c='g')\n",
    "plt.scatter(y[type==2][:,0],y[type==2][:,1],c='y')\n",
    "plt.scatter(y[type==3][:,0],y[type==3][:,1])\n",
    "plt.show()"
   ]
  },
  {
   "cell_type": "code",
   "execution_count": 148,
   "metadata": {},
   "outputs": [
    {
     "data": {
      "text/plain": [
       "array([[-0.9972747 , -0.99999952,  0.97589588, ...,  0.99999976,\n",
       "        -0.99999994, -1.        ],\n",
       "       [ 0.99996895, -0.99999994, -0.99981833, ...,  0.99999958,\n",
       "        -1.        , -1.        ],\n",
       "       [-0.92156887, -0.99999994,  1.        , ...,  0.99999368,\n",
       "        -1.        , -1.        ],\n",
       "       ..., \n",
       "       [ 1.        , -0.99999893, -0.99999976, ...,  0.99981493,\n",
       "        -1.        , -0.31357199],\n",
       "       [-0.99999678, -0.99999654,  0.9546572 , ...,  0.99999696,\n",
       "        -0.72487617, -0.96804827],\n",
       "       [-1.        , -0.9999997 , -0.99975801, ...,  0.99999875,\n",
       "        -0.99999958, -0.00973821]], dtype=float32)"
      ]
     },
     "execution_count": 148,
     "metadata": {},
     "output_type": "execute_result"
    }
   ],
   "source": [
    "hidden"
   ]
  },
  {
   "cell_type": "code",
   "execution_count": null,
   "metadata": {
    "collapsed": true
   },
   "outputs": [],
   "source": []
  }
 ],
 "metadata": {
  "kernelspec": {
   "display_name": "Python [conda env:py36]",
   "language": "python",
   "name": "conda-env-py36-py"
  },
  "language_info": {
   "codemirror_mode": {
    "name": "ipython",
    "version": 3
   },
   "file_extension": ".py",
   "mimetype": "text/x-python",
   "name": "python",
   "nbconvert_exporter": "python",
   "pygments_lexer": "ipython3",
   "version": "3.6.4"
  }
 },
 "nbformat": 4,
 "nbformat_minor": 2
}
