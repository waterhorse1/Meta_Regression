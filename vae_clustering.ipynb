{
 "cells": [
  {
   "cell_type": "code",
   "execution_count": 1,
   "metadata": {
    "collapsed": true
   },
   "outputs": [],
   "source": [
    "import torch\n",
    "import torch.nn as nn\n",
    "import torch.nn.functional as F\n",
    "from data.task_multi import multi\n",
    "from sklearn.manifold import TSNE\n",
    "import matplotlib.pyplot as plt\n",
    "import numpy as np\n",
    "import utils"
   ]
  },
  {
   "cell_type": "code",
   "execution_count": 457,
   "metadata": {
    "collapsed": true
   },
   "outputs": [],
   "source": [
    "'''\n",
    "class encoder(nn.Module):\n",
    "    def __init__(self, point_num = 5, hidden_dim=10):\n",
    "        super(encoder, self).__init__()\n",
    "        self.l1 = nn.Linear(2 * point_num, 50)\n",
    "        self.mean = nn.Linear(50, hidden_dim)\n",
    "        self.var = nn.Linear(50, hidden_dim)\n",
    "    def forward(self, x, return_embed = False):\n",
    "        x1 = F.relu(self.l1(x))\n",
    "        mean = self.mean(x1)\n",
    "        log_std = self.var(x1)\n",
    "        return mean, log_std\n",
    "    \n",
    "class decoder(nn.Module):\n",
    "    def __init__(self, hidden_dim=10):\n",
    "        super(decoder, self).__init__()\n",
    "        self.l1 = nn.Linear(hidden_dim, 50)\n",
    "        self.l2 = nn.Linear(50,2)\n",
    "    def forward(self, x):\n",
    "        x1 = F.relu(self.l1(x))\n",
    "        x2 = self.l2(x1)\n",
    "        return x2\n",
    "'''\n",
    "class encoder(nn.Module):   \n",
    "    def __init__(self, hidden_size = 40, batch_size = 32, latent_size = 10):\n",
    "        super(encoder, self).__init__()\n",
    "        self.batch_size = batch_size\n",
    "        self.hidden_size = hidden_size\n",
    "        self.latent_size = latent_size\n",
    "        self.l1 = nn.Linear(2, 2)\n",
    "        self.mean = nn.Linear(self.hidden_size, self.latent_size)\n",
    "        self.log_std = nn.Linear(self.hidden_size, self.latent_size)\n",
    "        self.gru = nn.GRU(2, self.hidden_size, batch_first=True)\n",
    "                           \n",
    "    def forward(self, input): # input = batch * 10 * 2\n",
    "        x = self.l1(input)# batch * 10 * 2\n",
    "        hidden = self.hidden()\n",
    "        output, hidden = self.gru(x, hidden)\n",
    "        out = x\n",
    "        mean = self.mean(hidden)[0]# 1 * batch * latent\n",
    "        log_std = self.log_std(hidden)[0]\n",
    "        return mean, log_std, out\n",
    "    \n",
    "    def hidden(self):\n",
    "        return torch.zeros((1, self.batch_size, self.hidden_size))\n",
    "    \n",
    "class decoder(nn.Module):   \n",
    "    def __init__(self, reverse = True, hidden_size = 40, batch_size = 32):\n",
    "        super(decoder, self).__init__()\n",
    "        self.reverse = reverse\n",
    "        self.batch_size = batch_size\n",
    "        self.hidden_size = hidden_size\n",
    "        self.l1 = nn.Linear(self.hidden_size,2)\n",
    "        self.gru = nn.GRU(2, self.hidden_size, batch_first=True)\n",
    "                           \n",
    "    def forward(self, hidden, step):# input = batch * 10 * 2\n",
    "        out = []\n",
    "        output = torch.zeros((self.batch_size, 1, 2))\n",
    "        output, hidden = self.gru(output, hidden)#b*1*hidden_size\n",
    "        output = self.l1(output)\n",
    "        out.append(output)\n",
    "        for step in range(step-1):\n",
    "            output, hidden = self.gru(output, hidden)\n",
    "            output = self.l1(output)\n",
    "            out.append(output)\n",
    "        if self.reverse:\n",
    "            out = out[::-1]\n",
    "        \n",
    "        out = torch.cat(out,dim=1)\n",
    "        return out\n",
    "    \n",
    "    def hidden(self):\n",
    "        return torch.zeros((1, self.batch_size, self.hidden_size))\n",
    "    \n",
    "class classifer(nn.Module):\n",
    "    def __init__(self, input_size = 10, num=4):\n",
    "        super(classifer, self).__init__()\n",
    "        self.num = num\n",
    "        self.l1 = nn.Linear(input_size, 50)\n",
    "        self.l2 = nn.Linear(50, num)\n",
    "    def forward(self, x):\n",
    "        x1 = F.relu(self.l1(x))\n",
    "        x2 = F.softmax(self.l2(x1), dim = -1)\n",
    "        return x2\n",
    "    \n",
    "class sample(nn.Module):\n",
    "    def __init__(self):\n",
    "        super(sample, self).__init__()\n",
    "    def forward(self, mean, log_std):\n",
    "        epsilon = torch.randn((mean.shape[0], mean.shape[1]))\n",
    "        return mean + torch.exp(log_std) * epsilon\n",
    "\n",
    "class vae(nn.Module):\n",
    "    def __init__(self, batch_size=32, hidden_size=2, latent_size=2, class_num = 4):\n",
    "        super(vae, self).__init__()\n",
    "        self.latent_size = latent_size\n",
    "        self.class_num = class_num\n",
    "        self.hidden_size = hidden_size\n",
    "        self.batch_size = batch_size\n",
    "        self.encoder = encoder(batch_size=batch_size, hidden_size=hidden_size, latent_size=latent_size)\n",
    "        self.decoder = decoder(hidden_size = latent_size, batch_size = batch_size)\n",
    "        self.classifer = classifer(input_size = latent_size, num=class_num)\n",
    "        self.sample = sample()\n",
    "        self.mean = nn.Parameter(torch.zeros([class_num, latent_size]))\n",
    "        \n",
    "    def forward(self, x, return_kl=False):# batch * point * 2\n",
    "        mean, log_std, train_targets = self.encoder(x)# batch * ?\n",
    "        z = self.sample(mean, log_std)# batch * latent_size\n",
    "        hidden_state = torch.unsqueeze(z, dim = 0)# 1 * b * latent\n",
    "        recon = self.decoder(hidden_state, step = x.shape[1])#b * point * 2(10)\n",
    "        cate = self.classifer(z)# batch * class\n",
    "        if return_kl:\n",
    "            kl_loss, cat_loss = self.kl_loss(z, recon, cate, log_std)\n",
    "            return z,recon,cate, train_targets, kl_loss, cat_loss\n",
    "        else:\n",
    "            return z,recon,cate, train_targets\n",
    "    \n",
    "    def kl_loss(self, z, recon, cate, z_log_std):\n",
    "        expand_z = z.unsqueeze(dim = 1).expand([-1, self.class_num, -1])#batch * class * latent\n",
    "        expand_mean = self.mean.unsqueeze(dim = 0).expand([self.batch_size, -1, -1])\n",
    "        distance = expand_z - expand_mean\n",
    "        kl_loss = torch.sum(- 2 * z_log_std.unsqueeze(dim=1) + torch.exp(2 * z_log_std).unsqueeze(dim=1)\\\n",
    "                            + distance ** 2 - 1, dim = -1)#batch * class\n",
    "        kl_loss = torch.mean(torch.sum(kl_loss * cate, dim=1))\n",
    "        cat_loss = torch.mean(torch.sum(cate * torch.log(cate * self.class_num + 1e-10), dim = 1))\n",
    "        return kl_loss, cat_loss\n",
    "    \n",
    "    def mse_loss(self, target, recon):\n",
    "        return torch.nn.MSELoss()(target, recon)#torch.sum(torch.mean((target-recon) ** 2,dim=0))"
   ]
  },
  {
   "cell_type": "code",
   "execution_count": 458,
   "metadata": {
    "collapsed": true
   },
   "outputs": [],
   "source": [
    "batch = 64\n",
    "task_family_train = multi()\n",
    "task_family_test = multi()\n",
    "model = vae(batch_size = batch)\n",
    "model_optim = torch.optim.Adam(model.parameters(),lr=1e-4)\n",
    "#center_optim = torch.optim.Adam([model.mean],lr=1e-4)"
   ]
  },
  {
   "cell_type": "code",
   "execution_count": 459,
   "metadata": {},
   "outputs": [],
   "source": [
    "model.train()\n",
    "loss = []\n",
    "for b in range(3000):\n",
    "    train_inputs = []\n",
    "    # sample tasks\n",
    "    target_function = task_family_train.sample_tasks(batch)\n",
    "    for t in range(batch):        \n",
    "        x = task_family_train.sample_inputs(10)\n",
    "        y = target_function[t](x)\n",
    "        data = torch.cat([x,y],dim=1)# 10 * 2\n",
    "        train_inputs.append(data)\n",
    "    train_inputs = torch.stack(train_inputs,dim=0)# batch * 10 * 2\n",
    "    z,recon,cate, train_targets, kl_loss, cat_loss = model(train_inputs, True)\n",
    "    mse_loss = model.mse_loss(train_targets, recon)\n",
    "    \n",
    "    # get targets\n",
    "    #train_targets = train_inputs\n",
    "    task_loss =  mse_loss +  0.5 * kl_loss +  0.5 * cat_loss\n",
    "    task_loss.backward()\n",
    "    model_optim.step()\n",
    "    #center_optim.step()\n",
    "    loss.append(task_loss)"
   ]
  },
  {
   "cell_type": "code",
   "execution_count": 460,
   "metadata": {},
   "outputs": [
    {
     "data": {
      "image/png": "[encoded data removed]",
      "text/plain": [
       "<Figure size 432x288 with 1 Axes>"
      ]
     },
     "metadata": {},
     "output_type": "display_data"
    }
   ],
   "source": [
    "plt.plot(loss)\n",
    "plt.show()"
   ]
  },
  {
   "cell_type": "code",
   "execution_count": 461,
   "metadata": {},
   "outputs": [
    {
     "data": {
      "text/plain": [
       "tensor(0.7515, grad_fn=<MeanBackward1>)"
      ]
     },
     "execution_count": 461,
     "metadata": {},
     "output_type": "execute_result"
    }
   ],
   "source": [
    "mse_loss"
   ]
  },
  {
   "cell_type": "code",
   "execution_count": 462,
   "metadata": {},
   "outputs": [
    {
     "data": {
      "text/plain": [
       "tensor(1.2630, grad_fn=<MeanBackward1>)"
      ]
     },
     "execution_count": 462,
     "metadata": {},
     "output_type": "execute_result"
    }
   ],
   "source": [
    "kl_loss"
   ]
  },
  {
   "cell_type": "code",
   "execution_count": 463,
   "metadata": {},
   "outputs": [
    {
     "data": {
      "text/plain": [
       "Parameter containing:\n",
       "tensor([[ 0.3151, -0.3113],\n",
       "        [ 0.3639, -0.3545],\n",
       "        [ 0.3570, -0.3207],\n",
       "        [-0.4114, -0.3469]], requires_grad=True)"
      ]
     },
     "execution_count": 463,
     "metadata": {},
     "output_type": "execute_result"
    }
   ],
   "source": [
    "model.mean"
   ]
  },
  {
   "cell_type": "code",
   "execution_count": 464,
   "metadata": {
    "collapsed": true
   },
   "outputs": [],
   "source": [
    "#test\n",
    "loss = 0\n",
    "ty = []\n",
    "hidden = []\n",
    "model.eval()\n",
    "for b in range(30):\n",
    "    train_inputs = []\n",
    "    # sample tasks\n",
    "    target_function,type = task_family_test.sample_tasks(batch,True)\n",
    "    for t in range(batch):        \n",
    "        x = task_family_test.sample_inputs(10)\n",
    "        y = target_function[t](x)\n",
    "        data = torch.cat([x,y],dim=1)# 10 * 2\n",
    "        train_inputs.append(data)\n",
    "    train_inputs = torch.stack(train_inputs,dim=0)# batch * 10 * 2\n",
    "    z,recon,cate, train_targets = model(train_inputs)\n",
    "    ty.append(np.array(type))\n",
    "    hidden.append(z.detach().numpy())\n",
    "ty = np.concatenate(ty,axis=0)\n",
    "hidden = np.concatenate(hidden,axis=0)"
   ]
  },
  {
   "cell_type": "code",
   "execution_count": 465,
   "metadata": {},
   "outputs": [
    {
     "data": {
      "text/plain": [
       "(1920, 2)"
      ]
     },
     "execution_count": 465,
     "metadata": {},
     "output_type": "execute_result"
    }
   ],
   "source": [
    "hidden.shape"
   ]
  },
  {
   "cell_type": "code",
   "execution_count": 466,
   "metadata": {},
   "outputs": [
    {
     "data": {
      "image/png": "[encoded data removed]",
      "text/plain": [
       "<Figure size 432x288 with 1 Axes>"
      ]
     },
     "metadata": {},
     "output_type": "display_data"
    }
   ],
   "source": [
    "tsne = TSNE(n_components=2)\n",
    "y = tsne.fit_transform(hidden)\n",
    "import matplotlib.pyplot as plt\n",
    "plt.scatter(y[ty==0][:,0],y[ty==0][:,1],c='r')\n",
    "plt.scatter(y[ty==1][:,0],y[ty==1][:,1],c='g')\n",
    "plt.scatter(y[ty==2][:,0],y[ty==2][:,1],c='y')\n",
    "plt.scatter(y[ty==3][:,0],y[ty==3][:,1])\n",
    "plt.show()"
   ]
  },
  {
   "cell_type": "code",
   "execution_count": 453,
   "metadata": {},
   "outputs": [
    {
     "data": {
      "text/plain": [
       "tensor([1, 2, 2, 0, 2, 3, 3, 2, 0, 2, 0, 0, 2, 0, 2, 2, 3, 2, 2, 0, 2, 3, 2, 3,\n",
       "        3, 2, 2, 2, 3, 0, 1, 2, 2, 0, 3, 2, 1, 2, 3, 3, 2, 0, 2, 0, 2, 2, 3, 2,\n",
       "        2, 0, 0, 2, 2, 3, 2, 0, 0, 0, 0, 3, 2, 0, 2, 0])"
      ]
     },
     "execution_count": 453,
     "metadata": {},
     "output_type": "execute_result"
    }
   ],
   "source": [
    "torch.argmax(cate,dim = 1)"
   ]
  },
  {
   "cell_type": "code",
   "execution_count": 454,
   "metadata": {},
   "outputs": [
    {
     "data": {
      "text/plain": [
       "[1,\n",
       " 0,\n",
       " 3,\n",
       " 1,\n",
       " 1,\n",
       " 0,\n",
       " 1,\n",
       " 1,\n",
       " 0,\n",
       " 2,\n",
       " 1,\n",
       " 3,\n",
       " 1,\n",
       " 3,\n",
       " 2,\n",
       " 0,\n",
       " 2,\n",
       " 3,\n",
       " 0,\n",
       " 0,\n",
       " 1,\n",
       " 3,\n",
       " 3,\n",
       " 3,\n",
       " 1,\n",
       " 1,\n",
       " 3,\n",
       " 2,\n",
       " 1,\n",
       " 3,\n",
       " 0,\n",
       " 1,\n",
       " 3,\n",
       " 3,\n",
       " 0,\n",
       " 1,\n",
       " 3,\n",
       " 1,\n",
       " 1,\n",
       " 3,\n",
       " 2,\n",
       " 1,\n",
       " 3,\n",
       " 3,\n",
       " 0,\n",
       " 3,\n",
       " 3,\n",
       " 2,\n",
       " 2,\n",
       " 2,\n",
       " 1,\n",
       " 1,\n",
       " 0,\n",
       " 3,\n",
       " 2,\n",
       " 1,\n",
       " 3,\n",
       " 0,\n",
       " 2,\n",
       " 3,\n",
       " 1,\n",
       " 1,\n",
       " 0,\n",
       " 0]"
      ]
     },
     "execution_count": 454,
     "metadata": {},
     "output_type": "execute_result"
    }
   ],
   "source": [
    "type"
   ]
  },
  {
   "cell_type": "code",
   "execution_count": 455,
   "metadata": {
    "collapsed": true
   },
   "outputs": [],
   "source": [
    "tsne = TSNE(n_components=2)\n",
    "y = tsne.fit_transform(model.mean.detach().numpy())"
   ]
  },
  {
   "cell_type": "code",
   "execution_count": 456,
   "metadata": {},
   "outputs": [
    {
     "data": {
      "image/png": "[encoded data removed]",
      "text/plain": [
       "<Figure size 432x288 with 1 Axes>"
      ]
     },
     "metadata": {},
     "output_type": "display_data"
    }
   ],
   "source": [
    "plt.scatter(y[:,0],y[:,1])\n",
    "plt.show()"
   ]
  },
  {
   "cell_type": "code",
   "execution_count": 352,
   "metadata": {},
   "outputs": [
    {
     "data": {
      "text/plain": [
       "tensor(1.7581)"
      ]
     },
     "execution_count": 352,
     "metadata": {},
     "output_type": "execute_result"
    }
   ],
   "source": [
    "for i in range(20):\n",
    "    c[i,:] = b[i] @ a[i]\n",
    "torch.sum(torch.mean(c,dim=0))"
   ]
  },
  {
   "cell_type": "code",
   "execution_count": 354,
   "metadata": {},
   "outputs": [
    {
     "data": {
      "text/plain": [
       "tensor(1.7581)"
      ]
     },
     "execution_count": 354,
     "metadata": {},
     "output_type": "execute_result"
    }
   ],
   "source": [
    "z = torch.sum(a,dim=-1)\n",
    "y = b.squeeze(dim=1)\n",
    "torch.mean(torch.sum(z*y,dim=-1))"
   ]
  },
  {
   "cell_type": "code",
   "execution_count": null,
   "metadata": {
    "collapsed": true
   },
   "outputs": [],
   "source": []
  }
 ],
 "metadata": {
  "kernelspec": {
   "display_name": "Python [conda env:py36]",
   "language": "python",
   "name": "conda-env-py36-py"
  },
  "language_info": {
   "codemirror_mode": {
    "name": "ipython",
    "version": 3
   },
   "file_extension": ".py",
   "mimetype": "text/x-python",
   "name": "python",
   "nbconvert_exporter": "python",
   "pygments_lexer": "ipython3",
   "version": "3.6.4"
  }
 },
 "nbformat": 4,
 "nbformat_minor": 2
}
