{
 "cells": [
  {
   "cell_type": "code",
   "execution_count": 1,
   "metadata": {
    "collapsed": true
   },
   "outputs": [],
   "source": [
    "import torch\n",
    "import torch.nn as nn\n",
    "import torch.nn.functional as F\n",
    "from data.task_multi import multi\n",
    "from sklearn.manifold import TSNE\n",
    "import matplotlib.pyplot as plt\n",
    "import numpy as np\n",
    "import utils"
   ]
  },
  {
   "cell_type": "code",
   "execution_count": 2,
   "metadata": {
    "collapsed": true
   },
   "outputs": [],
   "source": [
    "class pool_encoder(nn.Module):\n",
    "    def __init__(self):\n",
    "        super(pool_encoder, self).__init__()\n",
    "        self.l1 = nn.Linear(2, 50)\n",
    "        self.l2 = nn.Linear(50,10)\n",
    "    def forward(self, x):\n",
    "        x1 = F.relu(self.l1(x))\n",
    "        x2 = self.l2(x1)\n",
    "        return x2\n",
    "class pool_decoder(nn.Module):\n",
    "    def __init__(self):\n",
    "        super(pool_decoder, self).__init__()\n",
    "        self.l1 = nn.Linear(10, 50)\n",
    "        self.l2 = nn.Linear(50,2)\n",
    "    def forward(self, x):\n",
    "        x1 = F.relu(self.l1(x))\n",
    "        x2 = self.l2(x1)\n",
    "        return x2  "
   ]
  },
  {
   "cell_type": "code",
   "execution_count": 145,
   "metadata": {
    "collapsed": true
   },
   "outputs": [],
   "source": [
    "test = torch.optim.Adam(encoder.l1.parameters(),lr=1e-3)"
   ]
  },
  {
   "cell_type": "code",
   "execution_count": 64,
   "metadata": {
    "collapsed": true
   },
   "outputs": [],
   "source": [
    "final_layer = nn.Linear(10,4)"
   ]
  },
  {
   "cell_type": "code",
   "execution_count": 74,
   "metadata": {
    "collapsed": true
   },
   "outputs": [],
   "source": [
    "utils.set_seed(42)"
   ]
  },
  {
   "cell_type": "code",
   "execution_count": 79,
   "metadata": {
    "collapsed": true
   },
   "outputs": [],
   "source": [
    "a = 1\n",
    "b = 2"
   ]
  },
  {
   "cell_type": "code",
   "execution_count": 80,
   "metadata": {
    "collapsed": true
   },
   "outputs": [],
   "source": [
    "task_family_train = multi()\n",
    "task_family_test = multi()"
   ]
  },
  {
   "cell_type": "code",
   "execution_count": 81,
   "metadata": {
    "collapsed": true
   },
   "outputs": [],
   "source": [
    "target_function = task_family_train.sample_task()"
   ]
  },
  {
   "cell_type": "code",
   "execution_count": 82,
   "metadata": {},
   "outputs": [
    {
     "data": {
      "text/plain": [
       "-0.3310804605214881"
      ]
     },
     "execution_count": 82,
     "metadata": {},
     "output_type": "execute_result"
    }
   ],
   "source": [
    "target_function(1)"
   ]
  },
  {
   "cell_type": "code",
   "execution_count": 37,
   "metadata": {
    "collapsed": true
   },
   "outputs": [],
   "source": [
    "encoder = pool_encoder()\n",
    "decoder = pool_decoder()\n",
    "#encoder.load_state_dict(torch.load('./model/encoder'))\n",
    "#decoder.load_state_dict(torch.load('./model/decoder'))"
   ]
  },
  {
   "cell_type": "code",
   "execution_count": 147,
   "metadata": {
    "collapsed": true
   },
   "outputs": [],
   "source": [
    "encoder_optim = torch.optim.Adam(encoder.parameters(),lr=1e-3)\n",
    "decoder_optim = torch.optim.Adam(decoder.parameters(),lr=1e-3)\n",
    "final_optim = torch.optim.Adam(final_layer.parameters(),lr=1e-3)"
   ]
  },
  {
   "cell_type": "code",
   "execution_count": 149,
   "metadata": {
    "collapsed": true
   },
   "outputs": [],
   "source": [
    "encoder.train()\n",
    "decoder.train()\n",
    "loss = []\n",
    "for task in range(100):\n",
    "\n",
    "    # sample tasks\n",
    "    target_function = task_family_train.sample_task()\n",
    "    x = task_family_train.sample_inputs(10)\n",
    "    y = target_function(x)\n",
    "    train_inputs = torch.cat([x,y],dim=1)\n",
    "    #print(y)\n",
    "    add_loss = 0\n",
    "    for _ in range(1):\n",
    "        # forward through model\n",
    "        embedding = encoder(train_inputs)\n",
    "        train_outputs = decoder(embedding)\n",
    "        # get targets\n",
    "        train_targets = train_inputs\n",
    "\n",
    "        task_loss = F.mse_loss(train_outputs, train_targets)\n",
    "        \n",
    "        task_loss.backward()\n",
    "        encoder_optim.step()\n",
    "        decoder_optim.step()\n",
    "        test.step()\n",
    "        encoder_optim.zero_grad()\n",
    "        decoder_optim.zero_grad()\n",
    "        add_loss += task_loss\n",
    "    loss.append(add_loss)\n"
   ]
  },
  {
   "cell_type": "code",
   "execution_count": 127,
   "metadata": {},
   "outputs": [
    {
     "data": {
      "text/plain": [
       "tensor([[-0.2553, -0.3287, -0.2177,  0.1899]], grad_fn=<AddmmBackward>)"
      ]
     },
     "execution_count": 127,
     "metadata": {},
     "output_type": "execute_result"
    }
   ],
   "source": [
    "result\n"
   ]
  },
  {
   "cell_type": "code",
   "execution_count": 128,
   "metadata": {},
   "outputs": [
    {
     "data": {
      "image/png": "[encoded data removed]",
      "text/plain": [
       "<matplotlib.figure.Figure at 0x7f48702ce358>"
      ]
     },
     "metadata": {
      "needs_background": "light"
     },
     "output_type": "display_data"
    }
   ],
   "source": [
    "\n",
    "plt.plot(loss)\n",
    "plt.show()"
   ]
  },
  {
   "cell_type": "code",
   "execution_count": 129,
   "metadata": {
    "collapsed": true
   },
   "outputs": [],
   "source": [
    "#test\n",
    "loss = 0\n",
    "encoder.eval()\n",
    "decoder.eval()\n",
    "with torch.no_grad():\n",
    "    for task in range(100):\n",
    "\n",
    "        # sample tasks\n",
    "        target_function = task_family_test.sample_task()\n",
    "        x = task_family_test.sample_inputs(10)\n",
    "        y = target_function(x)\n",
    "        test_inputs = torch.cat([x,y],dim=1)\n",
    "        #print(y)\n",
    "        embedding = encoder(test_inputs)\n",
    "        test_outputs = decoder(embedding)\n",
    "        # get targets\n",
    "        test_targets = test_inputs\n",
    "\n",
    "        task_loss = F.mse_loss(train_outputs, train_targets)\n",
    "        loss += task_loss/100"
   ]
  },
  {
   "cell_type": "code",
   "execution_count": 130,
   "metadata": {},
   "outputs": [
    {
     "data": {
      "text/plain": [
       "tensor(0.0259)"
      ]
     },
     "execution_count": 130,
     "metadata": {},
     "output_type": "execute_result"
    }
   ],
   "source": [
    "loss"
   ]
  },
  {
   "cell_type": "code",
   "execution_count": 131,
   "metadata": {
    "collapsed": true
   },
   "outputs": [],
   "source": [
    "encoder = tor\n",
    "loss = 0\n",
    "type = []\n",
    "embed = []\n",
    "encoder.eval()\n",
    "decoder.eval()\n",
    "with torch.no_grad():\n",
    "    for task in range(300):\n",
    "        # sample tasks\n",
    "        target_function,ty = task_family_test.sample_task(return_type=True)\n",
    "        x = task_family_test.sample_inputs(100)\n",
    "        y = target_function(x)\n",
    "        test_inputs = torch.cat([x,y],dim=1)\n",
    "        a = encoder(test_inputs)\n",
    "        #embedding,_ = torch.max(a,dim=0)\n",
    "        embedding = torch.mean(a,dim=0)\n",
    "        #print(embedding.shape)\n",
    "        type.append(ty)\n",
    "        embed.append(embedding.numpy())"
   ]
  },
  {
   "cell_type": "code",
   "execution_count": 132,
   "metadata": {
    "collapsed": true
   },
   "outputs": [],
   "source": [
    "type = np.array(type)\n",
    "em = np.stack(embed,axis=0)\n",
    "em = TSNE(n_components=2).fit_transform(em)"
   ]
  },
  {
   "cell_type": "code",
   "execution_count": 83,
   "metadata": {
    "collapsed": true
   },
   "outputs": [],
   "source": [
    "import torch"
   ]
  },
  {
   "cell_type": "code",
   "execution_count": 127,
   "metadata": {
    "collapsed": true
   },
   "outputs": [],
   "source": [
    "class place(nn.Module):\n",
    "    def __init__(self):\n",
    "        super(place, self).__init__()\n",
    "        self.l1 = nn.Linear(10, 40)\n",
    "        self.l2 = nn.Linear(40, 40)\n",
    "        self.l3 = nn.Linear(40, 30)\n",
    "    def forward(self, x):\n",
    "        x = F.relu(self.l1(x))\n",
    "        x = F.relu(self.l2(x))\n",
    "        logits = self.l3(x)\n",
    "        return logits"
   ]
  },
  {
   "cell_type": "code",
   "execution_count": 128,
   "metadata": {
    "collapsed": true
   },
   "outputs": [],
   "source": [
    "latent_dim = 15\n",
    "categorical_dim = 2 \n",
    "def sample_gumbel(shape, eps=1e-20):\n",
    "    U = torch.rand(shape)\n",
    "    return -torch.log(-torch.log(U + eps) + eps)\n",
    "\n",
    "\n",
    "def gumbel_softmax_sample(logits, temperature):\n",
    "    y = logits + sample_gumbel(logits.size())\n",
    "    return F.softmax(y / temperature, dim=-1)\n",
    "\n",
    "\n",
    "def gumbel_softmax(logits, temperature, hard=False):\n",
    "    \"\"\"\n",
    "    ST-gumple-softmax\n",
    "    input: [*, n_class]\n",
    "    return: flatten --> [*, n_class] an one-hot vector\n",
    "    \"\"\"\n",
    "    y = gumbel_softmax_sample(logits, temperature)\n",
    "    \n",
    "    if not hard:\n",
    "        return y#y.view(-1, latent_dim * categorical_dim)\n",
    "\n",
    "    shape = y.size()#10*10*10\n",
    "    _, ind = y.max(dim=-1)\n",
    "    y_hard = torch.zeros_like(y).view(-1, shape[-1])\n",
    "    y_hard.scatter_(1, ind.view(-1, 1), 1)\n",
    "    y_hard = y_hard.view(*shape)\n",
    "    # Set gradients w.r.t. y_hard gradients w.r.t. y\n",
    "    y_hard = (y_hard - y).detach() + y\n",
    "    return y_hard#y_hard.view(-1, latent_dim * categorical_dim)"
   ]
  },
  {
   "cell_type": "code",
   "execution_count": 143,
   "metadata": {
    "collapsed": true
   },
   "outputs": [],
   "source": [
    "p_encoder = place()\n",
    "x = torch.randn([10])\n",
    "logits = p_encoder(x)\n",
    "logits = logits.reshape([latent_dim, categorical_dim])\n",
    "#logits = torch.rand([1,2,2],requires_grad=True)\n",
    "tem = 1\n",
    "y = gumbel_softmax(logits,tem)"
   ]
  },
  {
   "cell_type": "code",
   "execution_count": 170,
   "metadata": {},
   "outputs": [
    {
     "data": {
      "text/plain": [
       "torch.Size([15, 2])"
      ]
     },
     "execution_count": 170,
     "metadata": {},
     "output_type": "execute_result"
    }
   ],
   "source": [
    "logits.shape"
   ]
  },
  {
   "cell_type": "code",
   "execution_count": 147,
   "metadata": {},
   "outputs": [
    {
     "data": {
      "text/plain": [
       "tensor(0.7071)"
      ]
     },
     "execution_count": 147,
     "metadata": {},
     "output_type": "execute_result"
    }
   ],
   "source": [
    "torch.norm(torch.zeros([2])+0.5,1)"
   ]
  },
  {
   "cell_type": "code",
   "execution_count": 158,
   "metadata": {},
   "outputs": [
    {
     "data": {
      "text/plain": [
       "tensor([1., 1., 0., 1., 1., 0., 1., 1., 1., 1., 0., 1., 0., 0., 1.])"
      ]
     },
     "execution_count": 158,
     "metadata": {},
     "output_type": "execute_result"
    }
   ],
   "source": [
    "a = torch.ones([15]) * 0.6\n",
    "out = torch.bernoulli(a)\n",
    "out"
   ]
  },
  {
   "cell_type": "code",
   "execution_count": 159,
   "metadata": {},
   "outputs": [
    {
     "data": {
      "text/plain": [
       "2"
      ]
     },
     "execution_count": 159,
     "metadata": {},
     "output_type": "execute_result"
    }
   ],
   "source": [
    "np.random.choice([1,2])"
   ]
  },
  {
   "cell_type": "code",
   "execution_count": 36,
   "metadata": {
    "collapsed": true
   },
   "outputs": [],
   "source": [
    "file = utils.load_obj('./multi_result_files/3b85757073744aadd281e4307f6739e3')"
   ]
  },
  {
   "cell_type": "code",
   "execution_count": 37,
   "metadata": {},
   "outputs": [
    {
     "data": {
      "text/plain": [
       "[1.5235464458540082,\n",
       " 1.7569779579341411,\n",
       " 2.588942586295307,\n",
       " 1.9036784174572676,\n",
       " 2.3612995272129775,\n",
       " 2.823535210983828,\n",
       " 1.8619225160777568,\n",
       " 1.8504605675861239,\n",
       " 2.2933800024818627,\n",
       " 2.048745587319136]"
      ]
     },
     "execution_count": 37,
     "metadata": {},
     "output_type": "execute_result"
    }
   ],
   "source": [
    "file.test_loss[-10:]"
   ]
  },
  {
   "cell_type": "code",
   "execution_count": 22,
   "metadata": {
    "collapsed": true
   },
   "outputs": [],
   "source": [
    "from cavia_model_back import CaviaModel, pool_encoder, place\n",
    "from data.task_multi import multi"
   ]
  },
  {
   "cell_type": "code",
   "execution_count": 2,
   "metadata": {
    "collapsed": true
   },
   "outputs": [],
   "source": [
    "logger = utils.load_obj('./multi_result_files/12d8a79ed53892a21408907e99e14b58')\n",
    "encoder = logger.best_encoder_valid_model\n",
    "p_encoder = logger.best_place_valid_model"
   ]
  },
  {
   "cell_type": "code",
   "execution_count": null,
   "metadata": {
    "collapsed": true
   },
   "outputs": [],
   "source": []
  },
  {
   "cell_type": "code",
   "execution_count": 3,
   "metadata": {
    "collapsed": true
   },
   "outputs": [],
   "source": [
    "utils.set_seed(123)\n",
    "task_family_test = multi()"
   ]
  },
  {
   "cell_type": "code",
   "execution_count": 56,
   "metadata": {
    "collapsed": true
   },
   "outputs": [],
   "source": [
    "from gumbel_sample import gumbel_softmax"
   ]
  },
  {
   "cell_type": "code",
   "execution_count": 4,
   "metadata": {
    "collapsed": true
   },
   "outputs": [],
   "source": [
    "task_family = task_family_test\n",
    "type = []\n",
    "prob = []\n",
    "for t in range(300):\n",
    "\n",
    "    # sample a task\n",
    "    target_function,ty = task_family.sample_task(True)\n",
    "\n",
    "    # get data for current task\n",
    "    curr_inputs = task_family.sample_inputs(10)\n",
    "    curr_targets = target_function(curr_inputs)\n",
    "\n",
    "    train_inputs = torch.cat([curr_inputs,curr_targets],dim=1)\n",
    "    a = encoder(train_inputs)\n",
    "    #embedding,_ = torch.max(a,dim=0)\n",
    "    embedding = torch.mean(a,dim=0)\n",
    "    #model.set_context_params(embedding)\n",
    "    logits = p_encoder(embedding)\n",
    "    logits = logits.reshape([2])\n",
    "    y = F.softmax(logits, dim=-1)\n",
    "    output = torch.argmax(y)\n",
    "    #y = gumbel_softmax(logits, 0.3, hard=True)\n",
    "    type.append(ty)\n",
    "    prob.append(output.data.numpy())\n",
    "    #print(qy[:,1],ty)"
   ]
  },
  {
   "cell_type": "code",
   "execution_count": 6,
   "metadata": {
    "collapsed": true
   },
   "outputs": [],
   "source": [
    "result = np.stack(prob,axis=0)"
   ]
  },
  {
   "cell_type": "code",
   "execution_count": 7,
   "metadata": {
    "collapsed": true
   },
   "outputs": [],
   "source": [
    "type = np.array(type)"
   ]
  },
  {
   "cell_type": "code",
   "execution_count": 60,
   "metadata": {
    "collapsed": true
   },
   "outputs": [],
   "source": [
    "model = TSNE(n_components=2, random_state=0)\n",
    "y = model.fit_transform(result) "
   ]
  },
  {
   "cell_type": "code",
   "execution_count": 61,
   "metadata": {
    "collapsed": true
   },
   "outputs": [],
   "source": [
    "type = np.array(type)"
   ]
  },
  {
   "cell_type": "code",
   "execution_count": 62,
   "metadata": {},
   "outputs": [
    {
     "data": {
      "image/png": "[encoded data removed]",
      "text/plain": [
       "<Figure size 432x288 with 1 Axes>"
      ]
     },
     "metadata": {
      "needs_background": "light"
     },
     "output_type": "display_data"
    }
   ],
   "source": [
    "import matplotlib.pyplot as plt\n",
    "plt.scatter(y[type==0][:,0],y[type==0][:,1],c='r')\n",
    "plt.scatter(y[type==1][:,0],y[type==1][:,1],c='g')\n",
    "plt.scatter(y[type==2][:,0],y[type==2][:,1],c='y')\n",
    "plt.scatter(y[type==3][:,0],y[type==3][:,1])\n",
    "plt.show()"
   ]
  }
 ],
 "metadata": {
  "kernelspec": {
   "display_name": "Python [conda env:py35]",
   "language": "python",
   "name": "conda-env-py35-py"
  },
  "language_info": {
   "codemirror_mode": {
    "name": "ipython",
    "version": 3
   },
   "file_extension": ".py",
   "mimetype": "text/x-python",
   "name": "python",
   "nbconvert_exporter": "python",
   "pygments_lexer": "ipython3",
   "version": "3.5.3"
  }
 },
 "nbformat": 4,
 "nbformat_minor": 2
}
