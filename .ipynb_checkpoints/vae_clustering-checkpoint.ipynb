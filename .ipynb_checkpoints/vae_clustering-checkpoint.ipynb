{
 "cells": [
  {
   "cell_type": "code",
   "execution_count": 1,
   "metadata": {
    "collapsed": true
   },
   "outputs": [],
   "source": [
    "import torch\n",
    "import torch.nn as nn\n",
    "import torch.nn.functional as F\n",
    "from data.task_multi import multi\n",
    "from sklearn.manifold import TSNE\n",
    "import matplotlib.pyplot as plt\n",
    "import numpy as np\n",
    "import utils"
   ]
  },
  {
   "cell_type": "code",
   "execution_count": 333,
   "metadata": {
    "collapsed": true
   },
   "outputs": [],
   "source": [
    "'''\n",
    "class encoder(nn.Module):\n",
    "    def __init__(self, point_num = 5, hidden_dim=10):\n",
    "        super(encoder, self).__init__()\n",
    "        self.l1 = nn.Linear(2 * point_num, 50)\n",
    "        self.mean = nn.Linear(50, hidden_dim)\n",
    "        self.var = nn.Linear(50, hidden_dim)\n",
    "    def forward(self, x, return_embed = False):\n",
    "        x1 = F.relu(self.l1(x))\n",
    "        mean = self.mean(x1)\n",
    "        log_std = self.var(x1)\n",
    "        return mean, log_std\n",
    "    \n",
    "class decoder(nn.Module):\n",
    "    def __init__(self, hidden_dim=10):\n",
    "        super(decoder, self).__init__()\n",
    "        self.l1 = nn.Linear(hidden_dim, 50)\n",
    "        self.l2 = nn.Linear(50,2)\n",
    "    def forward(self, x):\n",
    "        x1 = F.relu(self.l1(x))\n",
    "        x2 = self.l2(x1)\n",
    "        return x2\n",
    "'''\n",
    "class encoder(nn.Module):   \n",
    "    def __init__(self, hidden_size = 10, batch_size = 32, latent_size = 10):\n",
    "        super(encoder, self).__init__()\n",
    "        self.batch_size = batch_size\n",
    "        self.hidden_size = hidden_size\n",
    "        self.latent_size = latent_size\n",
    "        self.l1 = nn.Linear(2, 64)\n",
    "        self.l = nn.Linear(2, 10)\n",
    "        self.mean = nn.Linear(self.hidden_size, self.latent_size)\n",
    "        self.log_std = nn.Linear(self.hidden_size, self.latent_size)\n",
    "        self.gru = nn.GRU(64, self.hidden_size, batch_first=True)\n",
    "                           \n",
    "    def forward(self, input): # input = batch * 10 * 2\n",
    "        x = self.l1(input)# batch * 10 * 20\n",
    "        hidden = self.hidden()\n",
    "        output, hidden = self.gru(x, hidden)\n",
    "        out = self.l(input)\n",
    "        mean = self.mean(hidden)[0]# 1 * batch * latent\n",
    "        log_std = self.log_std(hidden)[0]\n",
    "        return mean, log_std, out\n",
    "    \n",
    "    def hidden(self):\n",
    "        return torch.zeros((1, self.batch_size, self.hidden_size))\n",
    "    \n",
    "class decoder(nn.Module):   \n",
    "    def __init__(self, reverse = True, hidden_size = 10, batch_size = 32):\n",
    "        super(decoder, self).__init__()\n",
    "        self.reverse = reverse\n",
    "        self.batch_size = batch_size\n",
    "        self.hidden_size = hidden_size\n",
    "        self.l1 = nn.Linear(self.hidden_size,10)\n",
    "        self.gru = nn.GRU(64, self.hidden_size, batch_first=True)\n",
    "        self.l2 = nn.Linear(10,64)\n",
    "                           \n",
    "    def forward(self, hidden, step):# input = batch * 10 * 2\n",
    "        out = []\n",
    "        output = torch.zeros((self.batch_size, 1, 64))\n",
    "        output, hidden = self.gru(output, hidden)#b*1*hidden_size\n",
    "        output = self.l1(output)\n",
    "        out.append(output)\n",
    "        for step in range(step-1):\n",
    "            input = self.l2(output)\n",
    "            output, hidden = self.gru(input, hidden)\n",
    "            output = self.l1(output)\n",
    "            out.append(output)\n",
    "        if self.reverse:\n",
    "            out = out[::-1]\n",
    "        \n",
    "        out = torch.cat(out,dim=1)\n",
    "        return out\n",
    "    \n",
    "    def hidden(self):\n",
    "        return torch.zeros((1, self.batch_size, self.hidden_size))\n",
    "    \n",
    "class classifer(nn.Module):\n",
    "    def __init__(self, input_size = 10, num=4):\n",
    "        super(classifer, self).__init__()\n",
    "        self.num = num\n",
    "        self.l1 = nn.Linear(input_size, 50)\n",
    "        self.l2 = nn.Linear(50, num)\n",
    "    def forward(self, x):\n",
    "        x1 = F.relu(self.l1(x))\n",
    "        x2 = F.softmax(self.l2(x1), dim = -1)\n",
    "        return x2\n",
    "    \n",
    "class sample(nn.Module):\n",
    "    def __init__(self):\n",
    "        super(sample, self).__init__()\n",
    "    def forward(self, mean, log_std):\n",
    "        epsilon = torch.randn((mean.shape[0], mean.shape[1]))\n",
    "        return mean + torch.exp(log_std) * epsilon\n",
    "\n",
    "class vae(nn.Module):\n",
    "    def __init__(self, batch_size=32, hidden_size=64, latent_size=32, class_num = 4):\n",
    "        super(vae, self).__init__()\n",
    "        self.latent_size = latent_size\n",
    "        self.class_num = class_num\n",
    "        self.hidden_size = hidden_size\n",
    "        self.batch_size = batch_size\n",
    "        self.encoder = encoder(batch_size=batch_size, hidden_size=hidden_size, latent_size=latent_size)\n",
    "        self.decoder = decoder(hidden_size = latent_size, batch_size = batch_size)\n",
    "        self.classifer = classifer(input_size = latent_size, num=class_num)\n",
    "        self.sample = sample()\n",
    "        self.mean = torch.zeros([class_num, latent_size], requires_grad= True)\n",
    "        \n",
    "    def forward(self, x, return_kl=False):# batch * point * 2\n",
    "        mean, log_std, train_targets = self.encoder(x)# batch * ?\n",
    "        z = self.sample(mean, log_std)# batch * latent_size\n",
    "        hidden_state = torch.unsqueeze(z, dim = 0)# 1 * b * latent\n",
    "        recon = self.decoder(hidden_state, step = x.shape[1])#b * point * 2(10)\n",
    "        cate = self.classifer(z)# batch * class\n",
    "        if return_kl:\n",
    "            kl_loss, cat_loss = self.kl_loss(z, recon, cate, log_std)\n",
    "            return z,recon,cate, train_targets, kl_loss, cat_loss\n",
    "        else:\n",
    "            return z,recon,cate, train_targets\n",
    "    \n",
    "    def kl_loss(self, z, recon, cate, z_log_std):\n",
    "        expand_z = z.unsqueeze(dim = 1).expand([-1, self.class_num, -1])#batch * class * latent\n",
    "        expand_mean = self.mean.unsqueeze(dim = 0).expand([self.batch_size, -1, -1])\n",
    "        distance = expand_z - expand_mean\n",
    "        kl_loss = - torch.sum(2 * z_log_std.unsqueeze(dim=1) - distance ** 2, dim = -1)#batch * class\n",
    "        kl_loss = torch.mean(torch.sum(kl_loss * cate, dim=1))\n",
    "        cat_loss = torch.mean(torch.sum(cate * torch.log(cate * self.class_num + 1e-10), dim = 1))\n",
    "        return kl_loss, cat_loss\n",
    "    \n",
    "    def mse_loss(self, target, recon):\n",
    "        return torch.nn.MSELoss()(target, recon) * target.shape[1] * target.shape[2]"
   ]
  },
  {
   "cell_type": "code",
   "execution_count": 334,
   "metadata": {
    "collapsed": true
   },
   "outputs": [],
   "source": [
    "batch = 64\n",
    "task_family_train = multi()\n",
    "task_family_test = multi()\n",
    "model = vae(batch_size = batch)\n",
    "model_optim = torch.optim.Adam(model.parameters(),lr=1e-4)\n",
    "center_optim = torch.optim.Adam([model.mean],lr=1e-4)"
   ]
  },
  {
   "cell_type": "code",
   "execution_count": 335,
   "metadata": {},
   "outputs": [],
   "source": [
    "model.train()\n",
    "loss = []\n",
    "for b in range(5000):\n",
    "    train_inputs = []\n",
    "    # sample tasks\n",
    "    target_function = task_family_train.sample_tasks(batch)\n",
    "    for t in range(batch):        \n",
    "        x = task_family_train.sample_inputs(10)\n",
    "        y = target_function[t](x)\n",
    "        data = torch.cat([x,y],dim=1)# 10 * 2\n",
    "        train_inputs.append(data)\n",
    "    train_inputs = torch.stack(train_inputs,dim=0)# batch * 10 * 2\n",
    "    z,recon,cate, train_targets, kl_loss, cat_loss = model(train_inputs, True)\n",
    "    mse_loss = model.mse_loss(train_inputs, recon)\n",
    "    \n",
    "    # get targets\n",
    "    #train_targets = train_inputs\n",
    "    task_loss =  mse_loss +  0.2 * kl_loss +  0.2 * cat_loss\n",
    "    task_loss.backward()\n",
    "    model_optim.step()\n",
    "    center_optim.step()\n",
    "    loss.append(task_loss)"
   ]
  },
  {
   "cell_type": "code",
   "execution_count": 337,
   "metadata": {},
   "outputs": [
    {
     "data": {
      "image/png": "[encoded data removed]",
      "text/plain": [
       "<Figure size 432x288 with 1 Axes>"
      ]
     },
     "metadata": {},
     "output_type": "display_data"
    }
   ],
   "source": [
    "plt.plot(loss)\n",
    "plt.show()"
   ]
  },
  {
   "cell_type": "code",
   "execution_count": 338,
   "metadata": {},
   "outputs": [
    {
     "data": {
      "text/plain": [
       "tensor(34.0517, grad_fn=<MulBackward0>)"
      ]
     },
     "execution_count": 338,
     "metadata": {},
     "output_type": "execute_result"
    }
   ],
   "source": [
    "mse_loss"
   ]
  },
  {
   "cell_type": "code",
   "execution_count": 339,
   "metadata": {},
   "outputs": [
    {
     "data": {
      "text/plain": [
       "tensor(1.3454, grad_fn=<MeanBackward1>)"
      ]
     },
     "execution_count": 339,
     "metadata": {},
     "output_type": "execute_result"
    }
   ],
   "source": [
    "cat_loss"
   ]
  },
  {
   "cell_type": "code",
   "execution_count": 340,
   "metadata": {},
   "outputs": [
    {
     "data": {
      "text/plain": [
       "tensor(58.0892, grad_fn=<MeanBackward1>)"
      ]
     },
     "execution_count": 340,
     "metadata": {},
     "output_type": "execute_result"
    }
   ],
   "source": [
    "kl_loss"
   ]
  },
  {
   "cell_type": "code",
   "execution_count": 323,
   "metadata": {},
   "outputs": [
    {
     "data": {
      "text/plain": [
       "tensor([[[-5.3966e-02, -2.3014e-01, -3.9454e-01,  ...,  1.4420e-01,\n",
       "          -3.8175e-01, -4.2088e-01],\n",
       "         [-6.2366e-02, -2.2910e-01, -3.8346e-01,  ...,  1.3810e-01,\n",
       "          -3.6254e-01, -4.0221e-01],\n",
       "         [-7.3269e-02, -2.2761e-01, -3.6894e-01,  ...,  1.3028e-01,\n",
       "          -3.3732e-01, -3.7778e-01],\n",
       "         ...,\n",
       "         [-4.2585e-02, -2.3141e-01, -4.0943e-01,  ...,  1.5256e-01,\n",
       "          -4.0749e-01, -4.4598e-01],\n",
       "         [-3.8815e-01, -3.5716e-02,  2.0031e-01,  ...,  1.1582e-02,\n",
       "           7.1104e-01,  5.4416e-01],\n",
       "         [-3.6355e-02, -2.3205e-01, -4.1751e-01,  ...,  1.5718e-01,\n",
       "          -4.2145e-01, -4.5963e-01]],\n",
       "\n",
       "        [[-1.2539e-01,  1.0253e-03, -7.6780e-02,  ...,  2.5207e-01,\n",
       "           2.5882e-01,  6.0693e-02],\n",
       "         [-6.6152e-01, -2.1787e-01,  3.4389e-01,  ..., -3.4202e-01,\n",
       "           8.7258e-01,  8.3818e-01],\n",
       "         [-5.8780e-01, -1.7474e-01,  2.9915e-01,  ..., -2.5097e-01,\n",
       "           8.1616e-01,  7.5019e-01],\n",
       "         ...,\n",
       "         [-5.1520e-03, -2.4372e-02, -2.4601e-01,  ...,  3.3179e-01,\n",
       "          -3.8725e-02, -2.2184e-01],\n",
       "         [-4.5595e-01, -1.0191e-01,  2.1479e-01,  ..., -9.1210e-02,\n",
       "           7.0600e-01,  5.8657e-01],\n",
       "         [-1.2987e-01,  2.0923e-03, -7.0349e-02,  ...,  2.4918e-01,\n",
       "           2.7018e-01,  7.1402e-02]],\n",
       "\n",
       "        [[-9.7480e-01, -9.2963e-01,  2.7322e-03,  ..., -1.1086e+00,\n",
       "          -2.2043e-02,  4.4476e-01],\n",
       "         [ 5.5038e-01,  7.2686e-01, -1.5468e-01,  ...,  1.3241e+00,\n",
       "           4.5101e-01, -2.6600e-01],\n",
       "         [ 3.1084e-01,  5.0047e-01, -9.6009e-02,  ...,  9.6630e-01,\n",
       "           4.4920e-01, -1.0535e-01],\n",
       "         ...,\n",
       "         [-4.4962e-01, -4.2357e-01, -1.1615e-01,  ..., -3.1713e-01,\n",
       "           2.7417e-03,  1.0659e-01],\n",
       "         [-6.2608e-01, -6.0303e-01, -8.5685e-02,  ..., -5.8984e-01,\n",
       "          -2.5821e-02,  2.0653e-01],\n",
       "         [ 5.1988e-01,  6.9870e-01, -1.4654e-01,  ...,  1.2790e+00,\n",
       "           4.5220e-01, -2.4459e-01]],\n",
       "\n",
       "        ...,\n",
       "\n",
       "        [[-2.2293e-01, -7.1703e-02, -3.3328e-02,  ...,  1.2035e-01,\n",
       "           2.9985e-01,  1.5436e-01],\n",
       "         [-2.5410e-01, -1.3648e-03,  7.4646e-02,  ...,  1.4547e-01,\n",
       "           5.1385e-01,  3.2019e-01],\n",
       "         [-5.5321e-02, -1.5711e-01, -3.1950e-01,  ...,  1.9556e-01,\n",
       "          -2.2225e-01, -3.1208e-01],\n",
       "         ...,\n",
       "         [-1.7704e-01,  1.2936e-01,  1.1396e-01,  ...,  3.0217e-01,\n",
       "           6.3869e-01,  3.5255e-01],\n",
       "         [-1.5471e-01,  1.7074e-01,  1.2888e-01,  ...,  3.5010e-01,\n",
       "           6.8239e-01,  3.6702e-01],\n",
       "         [-2.6734e-01, -4.5769e-02,  4.5818e-02,  ...,  1.0279e-01,\n",
       "           4.4528e-01,  2.8275e-01]],\n",
       "\n",
       "        [[-8.7358e-01, -4.0182e-01,  4.1239e-01,  ..., -6.4695e-01,\n",
       "           9.0634e-01,  1.0043e+00],\n",
       "         [-9.2746e-01, -4.3331e-01,  4.4513e-01,  ..., -7.1347e-01,\n",
       "           9.4766e-01,  1.0687e+00],\n",
       "         [ 3.6740e-02, -1.5107e-01, -4.2346e-01,  ...,  2.7490e-01,\n",
       "          -3.9537e-01, -4.9139e-01],\n",
       "         ...,\n",
       "         [-4.7983e-01, -2.1381e-01,  1.3082e-01,  ..., -1.9106e-01,\n",
       "           5.1405e-01,  4.7287e-01],\n",
       "         [-3.3887e-01, -2.2901e-01, -5.2913e-02,  ..., -8.7133e-02,\n",
       "           1.9652e-01,  1.6283e-01],\n",
       "         [-3.7202e-01, -2.1142e-01,  4.3871e-03,  ..., -1.0150e-01,\n",
       "           3.0129e-01,  2.5609e-01]],\n",
       "\n",
       "        [[-1.8606e-02, -1.9235e-02, -2.2477e-01,  ...,  3.2452e-01,\n",
       "          -5.0265e-04, -1.8689e-01],\n",
       "         [-8.7213e-02, -2.4883e-01, -3.7360e-01,  ...,  1.0368e-01,\n",
       "          -3.5468e-01, -3.8010e-01],\n",
       "         [-2.3096e-01,  1.4422e-02,  6.2858e-02,  ...,  1.7567e-01,\n",
       "           5.0096e-01,  2.9583e-01],\n",
       "         ...,\n",
       "         [-2.3708e-01, -3.9634e-03,  5.1684e-02,  ...,  1.5748e-01,\n",
       "           4.7386e-01,  2.8163e-01],\n",
       "         [-5.2681e-02, -1.8991e-01, -3.5564e-01,  ...,  1.7414e-01,\n",
       "          -2.9801e-01, -3.6510e-01],\n",
       "         [-2.2825e-01, -4.1187e-02,  3.7060e-03,  ...,  1.3794e-01,\n",
       "           3.7610e-01,  2.0954e-01]]], grad_fn=<AddBackward0>)"
      ]
     },
     "execution_count": 323,
     "metadata": {},
     "output_type": "execute_result"
    }
   ],
   "source": [
    "train_targets"
   ]
  },
  {
   "cell_type": "code",
   "execution_count": 295,
   "metadata": {},
   "outputs": [
    {
     "data": {
      "text/plain": [
       "tensor([[0., 0., 0., 0., 0., 0., 0., 0., 0., 0., 0., 0., 0., 0., 0., 0., 0., 0., 0., 0., 0., 0., 0., 0.,\n",
       "         0., 0., 0., 0., 0., 0., 0., 0.],\n",
       "        [0., 0., 0., 0., 0., 0., 0., 0., 0., 0., 0., 0., 0., 0., 0., 0., 0., 0., 0., 0., 0., 0., 0., 0.,\n",
       "         0., 0., 0., 0., 0., 0., 0., 0.],\n",
       "        [0., 0., 0., 0., 0., 0., 0., 0., 0., 0., 0., 0., 0., 0., 0., 0., 0., 0., 0., 0., 0., 0., 0., 0.,\n",
       "         0., 0., 0., 0., 0., 0., 0., 0.],\n",
       "        [0., 0., 0., 0., 0., 0., 0., 0., 0., 0., 0., 0., 0., 0., 0., 0., 0., 0., 0., 0., 0., 0., 0., 0.,\n",
       "         0., 0., 0., 0., 0., 0., 0., 0.]], requires_grad=True)"
      ]
     },
     "execution_count": 295,
     "metadata": {},
     "output_type": "execute_result"
    }
   ],
   "source": [
    "model.mean"
   ]
  },
  {
   "cell_type": "code",
   "execution_count": 319,
   "metadata": {
    "collapsed": true
   },
   "outputs": [],
   "source": [
    "#test\n",
    "loss = 0\n",
    "ty = []\n",
    "hidden = []\n",
    "model.eval()\n",
    "for b in range(30):\n",
    "    train_inputs = []\n",
    "    # sample tasks\n",
    "    target_function,type = task_family_test.sample_tasks(batch,True)\n",
    "    for t in range(batch):        \n",
    "        x = task_family_test.sample_inputs(10)\n",
    "        y = target_function[t](x)\n",
    "        data = torch.cat([x,y],dim=1)# 10 * 2\n",
    "        train_inputs.append(data)\n",
    "    train_inputs = torch.stack(train_inputs,dim=0)# batch * 10 * 2\n",
    "    z,recon,cate, train_targets = model(train_inputs)\n",
    "    ty.append(np.array(type))\n",
    "    hidden.append(z.detach().numpy())\n",
    "ty = np.concatenate(ty,axis=0)\n",
    "hidden = np.concatenate(hidden,axis=0)"
   ]
  },
  {
   "cell_type": "code",
   "execution_count": 320,
   "metadata": {},
   "outputs": [
    {
     "data": {
      "text/plain": [
       "(1920, 32)"
      ]
     },
     "execution_count": 320,
     "metadata": {},
     "output_type": "execute_result"
    }
   ],
   "source": [
    "hidden.shape"
   ]
  },
  {
   "cell_type": "code",
   "execution_count": 321,
   "metadata": {},
   "outputs": [
    {
     "data": {
      "image/png": "[encoded data removed]",
      "text/plain": [
       "<Figure size 432x288 with 1 Axes>"
      ]
     },
     "metadata": {},
     "output_type": "display_data"
    }
   ],
   "source": [
    "tsne = TSNE(n_components=2)\n",
    "y = tsne.fit_transform(hidden)\n",
    "import matplotlib.pyplot as plt\n",
    "plt.scatter(y[ty==0][:,0],y[ty==0][:,1],c='r')\n",
    "plt.scatter(y[ty==1][:,0],y[ty==1][:,1],c='g')\n",
    "plt.scatter(y[ty==2][:,0],y[ty==2][:,1],c='y')\n",
    "plt.scatter(y[ty==3][:,0],y[ty==3][:,1])\n",
    "plt.show()"
   ]
  },
  {
   "cell_type": "code",
   "execution_count": 286,
   "metadata": {},
   "outputs": [
    {
     "data": {
      "text/plain": [
       "tensor([0, 2, 0, 0, 1, 2, 0, 3, 0, 0, 2, 0, 2, 3, 1, 2, 0, 3, 0, 0, 0, 2, 1, 0,\n",
       "        3, 2, 3, 1, 3, 3, 2, 2, 0, 2, 1, 0, 0, 2, 2, 2, 0, 0, 2, 3, 2, 1, 0, 3,\n",
       "        3, 3, 3, 2, 0, 3, 0, 2, 1, 0, 3, 3, 0, 1, 1, 3])"
      ]
     },
     "execution_count": 286,
     "metadata": {},
     "output_type": "execute_result"
    }
   ],
   "source": [
    "torch.argmax(cate,dim = 1)"
   ]
  },
  {
   "cell_type": "code",
   "execution_count": 287,
   "metadata": {},
   "outputs": [
    {
     "data": {
      "text/plain": [
       "[2,\n",
       " 2,\n",
       " 1,\n",
       " 2,\n",
       " 0,\n",
       " 1,\n",
       " 3,\n",
       " 1,\n",
       " 3,\n",
       " 0,\n",
       " 2,\n",
       " 3,\n",
       " 2,\n",
       " 3,\n",
       " 2,\n",
       " 1,\n",
       " 2,\n",
       " 0,\n",
       " 3,\n",
       " 0,\n",
       " 3,\n",
       " 2,\n",
       " 3,\n",
       " 2,\n",
       " 0,\n",
       " 3,\n",
       " 1,\n",
       " 3,\n",
       " 0,\n",
       " 0,\n",
       " 1,\n",
       " 1,\n",
       " 2,\n",
       " 0,\n",
       " 1,\n",
       " 1,\n",
       " 1,\n",
       " 0,\n",
       " 0,\n",
       " 0,\n",
       " 3,\n",
       " 0,\n",
       " 2,\n",
       " 3,\n",
       " 2,\n",
       " 2,\n",
       " 3,\n",
       " 0,\n",
       " 1,\n",
       " 0,\n",
       " 0,\n",
       " 1,\n",
       " 2,\n",
       " 0,\n",
       " 2,\n",
       " 3,\n",
       " 3,\n",
       " 0,\n",
       " 1,\n",
       " 3,\n",
       " 1,\n",
       " 2,\n",
       " 1,\n",
       " 0]"
      ]
     },
     "execution_count": 287,
     "metadata": {},
     "output_type": "execute_result"
    }
   ],
   "source": [
    "type"
   ]
  },
  {
   "cell_type": "code",
   "execution_count": 289,
   "metadata": {
    "collapsed": true
   },
   "outputs": [],
   "source": [
    "tsne = TSNE(n_components=2)\n",
    "y = tsne.fit_transform(model.mean.detach().numpy())"
   ]
  },
  {
   "cell_type": "code",
   "execution_count": 290,
   "metadata": {},
   "outputs": [
    {
     "data": {
      "image/png": "[encoded data removed]",
      "text/plain": [
       "<Figure size 432x288 with 1 Axes>"
      ]
     },
     "metadata": {},
     "output_type": "display_data"
    }
   ],
   "source": [
    "plt.scatter(y[:,0],y[:,1])\n",
    "plt.show()"
   ]
  },
  {
   "cell_type": "code",
   "execution_count": null,
   "metadata": {
    "collapsed": true
   },
   "outputs": [],
   "source": []
  }
 ],
 "metadata": {
  "kernelspec": {
   "display_name": "Python [conda env:py36]",
   "language": "python",
   "name": "conda-env-py36-py"
  },
  "language_info": {
   "codemirror_mode": {
    "name": "ipython",
    "version": 3
   },
   "file_extension": ".py",
   "mimetype": "text/x-python",
   "name": "python",
   "nbconvert_exporter": "python",
   "pygments_lexer": "ipython3",
   "version": "3.6.4"
  }
 },
 "nbformat": 4,
 "nbformat_minor": 2
}
